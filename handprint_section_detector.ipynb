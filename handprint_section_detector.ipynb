{
 "cells": [
  {
   "cell_type": "code",
   "execution_count": 17,
   "metadata": {},
   "outputs": [
    {
     "name": "stdout",
     "output_type": "stream",
     "text": [
      "╔═════════════════════════════════════════════════════════════════════════════╗\n",
      "║           Welcome to Handprint: HANDwritten Page RecognitIoN Test           ║\n",
      "╚═════════════════════════════════════════════════════════════════════════════╝\n",
      "Unrecognized option \"-s\" in arguments. (Hint: use /h for help.)\n"
     ]
    }
   ],
   "source": [
    "!handprint /s google color_correction_output/test.png"
   ]
  }
 ],
 "metadata": {
  "kernelspec": {
   "display_name": ".venv",
   "language": "python",
   "name": "python3"
  },
  "language_info": {
   "codemirror_mode": {
    "name": "ipython",
    "version": 3
   },
   "file_extension": ".py",
   "mimetype": "text/x-python",
   "name": "python",
   "nbconvert_exporter": "python",
   "pygments_lexer": "ipython3",
   "version": "3.10.1"
  }
 },
 "nbformat": 4,
 "nbformat_minor": 2
}
