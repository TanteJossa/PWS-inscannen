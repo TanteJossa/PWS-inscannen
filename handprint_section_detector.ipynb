{
 "cells": [
  {
   "cell_type": "code",
   "execution_count": null,
   "metadata": {},
   "outputs": [],
   "source": [
    "# !pip install handprint\n",
    "\n",
    "# handprint -a google creds/handprint_google_credentials.json\n",
    "\n",
    "# fix protobuf\n",
    "# pip uninstall protobuf\n",
    "# pip install protobuf==3.20.*"
   ]
  },
  {
   "cell_type": "code",
   "execution_count": 1,
   "metadata": {},
   "outputs": [],
   "source": [
    "import os\n",
    "import shutil\n",
    "import json \n",
    "from pprint import pprint\n",
    "\n",
    "current_path = os.getcwd() \n",
    "\n",
    "input_path = current_path + r\"/color_correction_output\"\n",
    "output_dir = current_path + r\"/handprint_output\"\n",
    "section_output = current_path + r\"/section_output\""
   ]
  },
  {
   "cell_type": "code",
   "execution_count": 42,
   "metadata": {},
   "outputs": [
    {
     "name": "stdout",
     "output_type": "stream",
     "text": [
      "handprint /o d:\\GitHub\\PWS-inscannen/handprint_output /e /s google d:\\GitHub\\PWS-inscannen/color_correction_output/test.png \n",
      "╔═════════════════════════════════════════════════════════════════════════════╗\n",
      "║           Welcome to Handprint: HANDwritten Page RecognitIoN Test           ║\n",
      "╚═════════════════════════════════════════════════════════════════════════════╝\n",
      "Given 1 image to work on.\n",
      "Will apply results of 1 service: google\n",
      "Will use credentials stored in \n",
      "C:\\Users\\joost\\AppData\\Local\\CaltechLibrary\\Handprint/.\n",
      "Will save extended results.\n",
      "Will use up to 1 process threads.\n",
      "Starting on d:\\GitHub\\PWS-inscannen/color_correction_output/test.png\n",
      "Sending to google and waiting for response ...\n",
      "Got result from google.\n",
      "Creating annotated image for google.\n",
      "Saving all data for google.\n",
      "Saving extracted text for google.\n",
      "Creating results grid image: handprint_output\\test.handprint-all.png\n",
      "Done with color_correction_output\\test.png\n",
      "Done.\n"
     ]
    }
   ],
   "source": [
    "\n",
    "def move_file(old_path, new_path):\n",
    "    os.rename(old_path, new_path)\n",
    "    # os.replace(old_path, new_path)\n",
    "    shutil.move(old_path, new_path)\n",
    "\n",
    "\n",
    "for name in os.listdir(input_path):\n",
    "    command = f\"handprint /o {output_dir} /e /s google {input_path}/{name} \"\n",
    "    print(command)\n",
    "    !{command}\n",
    "    \n",
    "for name in os.listdir(input_path):\n",
    "    if name.startswith('textoutput'):\n",
    "        move_file(input_path+\"/\"+name, output_dir+\"/\"+name)"
   ]
  },
  {
   "cell_type": "code",
   "execution_count": 34,
   "metadata": {},
   "outputs": [
    {
     "name": "stdout",
     "output_type": "stream",
     "text": [
      "[{'height': 118, 'description': 'Opgave\\nWhetheme\\nexothame Reactive\\n- 2 C7 +1165 +1202 >7C02 +8H120 502\\n3= de hatalysator bragt de\\nGeuver ings exerque Umland\\nWandlagen de reactive snelhedel Snellen 15.\\nLE\\n120\\ngeactiveerde toestand\\nCHHILSTOR DEGO\\n- S:\\nbi hele\\npindate\\nWemale\\ngerator\\n\"Pinda\\'s\\nReactieproduct\\nCo₂ tot 120 + Soz\\nVerloop readve'}, {'height': 199, 'description': '-'}, {'height': 198, 'description': '2'}, {'height': 254, 'description': '3'}, {'height': 370, 'description': 'LE'}, {'height': 569, 'description': '-'}, {'height': 572, 'description': 'S'}, {'height': 650, 'description': 'bi'}]\n",
      "(0, 103, 600, 184) <PIL.PngImagePlugin.PngImageFile image mode=RGBA size=600x845 at 0x1ADD0EDB820>\n",
      "(0, 183, 600, 239) <PIL.PngImagePlugin.PngImageFile image mode=RGBA size=600x845 at 0x1ADD0EDB820>\n",
      "(0, 239, 600, 355) <PIL.PngImagePlugin.PngImageFile image mode=RGBA size=600x845 at 0x1ADD0EDB820>\n",
      "(0, 355, 600, 554) <PIL.PngImagePlugin.PngImageFile image mode=RGBA size=600x845 at 0x1ADD0EDB820>\n",
      "(0, 557, 600, 635) <PIL.PngImagePlugin.PngImageFile image mode=RGBA size=600x845 at 0x1ADD0EDB820>\n"
     ]
    }
   ],
   "source": [
    "from PIL import Image, ImageDraw\n",
    "\n",
    "output_items = os.listdir(output_dir)\n",
    "\n",
    "\n",
    "\n",
    "\n",
    "\n",
    "def clamp(n, min, max): \n",
    "    if n < min: \n",
    "        return min\n",
    "    elif n > max: \n",
    "        return max\n",
    "    else: \n",
    "        return n \n",
    "\n",
    "for file_name in os.listdir(input_path):\n",
    "    clean_file_name = file_name.split(\".\")\n",
    "    clean_file_name.pop()\n",
    "    name = \".\".join(clean_file_name)\n",
    "    \n",
    "    output_json_file_name = name + \".handprint-google.json\"\n",
    "    output_image_file_name = name + \".handprint-google.png\"\n",
    "    if (output_json_file_name not in output_items):\n",
    "        continue\n",
    "    \n",
    "    # output json exists\n",
    "    with open(output_dir+\"/\"+output_json_file_name, \"r\") as f:\n",
    "        # file_text = f.read()\n",
    "        text_data = json.load(f)\n",
    "    \n",
    "    # print(json.dumps(text_data[\"text_annotations\"][0], sort_keys=True, indent=4))\n",
    "    horizontal_breaks = []\n",
    "    for data in text_data[\"text_annotations\"]:\n",
    "        if (data[\"bounding_poly\"][\"vertices\"][0][\"x\"] < 80):\n",
    "            # if (data[\"description\"].isnumeric()):\n",
    "            horizontal_breaks.append({\"height\": data[\"bounding_poly\"][\"vertices\"][0][\"y\"], \"description\": data[\"description\"]})\n",
    "    print(horizontal_breaks)\n",
    "    \n",
    "    image = Image.open(input_path+\"/\"+file_name)\n",
    "    output_image = ImageDraw.Draw(image)\n",
    "    for h_break in horizontal_breaks:\n",
    "        y = h_break[\"height\"]\n",
    "        output_image.line([(0, y-15), (image.width, y-15)], fill=\"red\", width=3,)\n",
    "    \n",
    "    # image.show()\n",
    "    image.save(section_output+\"/\"+file_name)\n",
    "    \n",
    "    for index, h_break in enumerate(horizontal_breaks):\n",
    "        if (index == 0 ):\n",
    "            continue\n",
    "        previous_y = clamp(horizontal_breaks[index-1][\"height\"] - 15, 0, image.height - 1)\n",
    "        y = clamp(h_break[\"height\"] - 15, 0, image.height - 1)\n",
    "        \n",
    "        # min height and fix\n",
    "        if (previous_y > y or y - previous_y < 30):\n",
    "            continue\n",
    "        crop = (0, previous_y, image.width, y)\n",
    "        \n",
    "        print(crop, image)\n",
    "        section_image = image.copy()\n",
    "        cropped = section_image.crop(crop)\n",
    "        directory = section_output+\"/\"+name+\"_sections\"\n",
    "        try:\n",
    "            os.makedirs(directory)\n",
    "        except:\n",
    "            pass\n",
    "        # section_image.show()\n",
    "        cropped.save(directory+\"/\"+h_break[\"description\"]+\".png\")\n",
    "        \n"
   ]
  }
 ],
 "metadata": {
  "kernelspec": {
   "display_name": ".venv",
   "language": "python",
   "name": "python3"
  },
  "language_info": {
   "codemirror_mode": {
    "name": "ipython",
    "version": 3
   },
   "file_extension": ".py",
   "mimetype": "text/x-python",
   "name": "python",
   "nbconvert_exporter": "python",
   "pygments_lexer": "ipython3",
   "version": "3.10.1"
  }
 },
 "nbformat": 4,
 "nbformat_minor": 2
}
