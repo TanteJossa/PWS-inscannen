{
 "cells": [
  {
   "cell_type": "code",
   "execution_count": null,
   "metadata": {},
   "outputs": [],
   "source": [
    "import segno\n",
    "from PIL import Image, ImageChops, ImageDraw, ImageFont\n",
    "import json\n",
    "import io\n",
    "\n",
    "ppi = 200\n",
    "inch_per_cm = 0.393701\n",
    "\n",
    "cm_to_px = lambda x: int(x*ppi*inch_per_cm)\n"
   ]
  },
  {
   "cell_type": "code",
   "execution_count": 36,
   "metadata": {},
   "outputs": [],
   "source": [
    "\n",
    "def create_qr(data, height=1):\n",
    "    qrcode = segno.make(data, boost_error=False, micro=False)\n",
    "    out = io.BytesIO()\n",
    "    qrcode.save(out, scale=height, border=0, kind='png')\n",
    "    out.seek(0)\n",
    "    local_img = Image.open(out)\n",
    "    print(local_img)\n",
    "    return local_img\n",
    "    \n",
    "\n",
    "def save_img(img, path, printer:str=\"joost_thuis\"):\n",
    "    with open(f'./printer_data/{printer}.json', 'r') as f:\n",
    "        printer_data = json.load(f)\n",
    "\n",
    "    offset_img = ImageChops.offset(\n",
    "        img, \n",
    "        cm_to_px(-printer_data[\"MARGIN_LEFT\"]), \n",
    "        cm_to_px(-printer_data[\"MARGIN_TOP\"])\n",
    "    )\n",
    "\n",
    "    offset_img.save(path)\n",
    "    \n",
    "\n",
    "\n",
    "# student: id, test: exam id, question id\n"
   ]
  },
  {
   "cell_type": "code",
   "execution_count": 37,
   "metadata": {},
   "outputs": [
    {
     "name": "stdout",
     "output_type": "stream",
     "text": [
      "<PIL.PngImagePlugin.PngImageFile image mode=1 size=21x21 at 0x18E1880D990>\n",
      "<PIL.PngImagePlugin.PngImageFile image mode=1 size=21x21 at 0x18E1880D780>\n",
      "<PIL.PngImagePlugin.PngImageFile image mode=1 size=21x21 at 0x18E1880DED0>\n"
     ]
    }
   ],
   "source": [
    "\n",
    "def create_answer_box(img, y1, height, qr_code_text='q123456'):\n",
    "    offset = 1.5\n",
    "    \n",
    "    qr_code = create_qr(qr_code_text, 1)\n",
    "    qr_size = cm_to_px(1.5)\n",
    "\n",
    "    \n",
    "    p1 = (cm_to_px(offset)-4, cm_to_px(offset))\n",
    "    p1_rect = (cm_to_px(offset)+qr_size, cm_to_px(offset))\n",
    "    p2 = img.size[0] - cm_to_px(offset+1) + 4, cm_to_px(offset+height)\n",
    "    p2_rect = img.size[0] - cm_to_px(offset+1), cm_to_px(offset+height) + qr_size\n",
    "\n",
    "    qr_code = qr_code.resize((qr_size, qr_size))\n",
    "\n",
    "    img.paste(qr_code, p1)\n",
    "    img.paste(qr_code, p2)\n",
    "    \n",
    "    draw = ImageDraw.Draw(img)\n",
    "    draw.rectangle([p1_rect, p2_rect], width=5, outline='black')\n",
    "    \n",
    "    \n",
    "    \n",
    "    return img\n",
    "\n",
    "img = Image.new('RGB', (int(8.25*ppi), int(11.75*ppi)), color='white')\n",
    "\n",
    "for i in range(3):\n",
    "    create_answer_box(img, cm_to_px(i*5), 5)\n",
    "\n",
    "\n",
    "\n",
    "save_img(img, 'output.png')\n",
    "\n",
    "\n"
   ]
  },
  {
   "cell_type": "code",
   "execution_count": 45,
   "metadata": {},
   "outputs": [
    {
     "name": "stdout",
     "output_type": "stream",
     "text": [
      "QR Code Data: q123456 [Point(x=1427, y=464), Point(x=1427, y=581), Point(x=1544, y=581), Point(x=1544, y=464)]\n",
      "QR Code Data: q123456 [Point(x=83, y=71), Point(x=83, y=188), Point(x=200, y=188), Point(x=200, y=71)]\n"
     ]
    }
   ],
   "source": [
    "from PIL import Image, ImageFont, ImageDraw\n",
    "import cv2\n",
    "import numpy as np\n",
    "from pyzbar.pyzbar import decode\n",
    "\n",
    "def scan_qrcode_from_image_path(pillow_image):\n",
    "    # Load the image from file using Pillow\n",
    "    pillow_image = Image.open(image_path)\n",
    "    \n",
    "\n",
    "    # Ensure the image is in RGB mode (in case it's RGBA or grayscale)\n",
    "    if pillow_image.mode != 'RGB':\n",
    "        pillow_image = pillow_image.convert('RGB')\n",
    "    \n",
    "    # Convert Pillow image to OpenCV format (numpy array)\n",
    "    open_cv_image = np.array(pillow_image)\n",
    "\n",
    "    # Convert RGB to BGR (OpenCV uses BGR format)\n",
    "    open_cv_image = open_cv_image[:, :, ::-1]\n",
    "\n",
    "    # Decode QR codes\n",
    "    qr_codes = decode(open_cv_image)\n",
    "\n",
    "    # Create a drawing context\n",
    "    draw = ImageDraw.Draw(pillow_image)\n",
    "\n",
    "    # Iterate through detected QR codes\n",
    "    for qr in qr_codes:\n",
    "        # Get the data from the QR code\n",
    "        qr_data = qr.data.decode('utf-8')\n",
    "        print(f\"QR Code Data: {qr_data} {qr.polygon}\")\n",
    "        \n",
    "\n",
    "        # Get the bounding box (rectangle)\n",
    "        rect_points = qr.rect  # This is a tuple (x, y, width, height)\n",
    "        top_left = (rect_points[0], rect_points[1])\n",
    "        bottom_right = (rect_points[0] + rect_points[2], rect_points[1] + rect_points[3])\n",
    "\n",
    "        # Draw the rectangle (color: green, thickness: 3)\n",
    "        draw.rectangle([top_left, bottom_right], outline=\"green\", width=3)\n",
    "        \n",
    "        # Display the decoded QR code data on the image\n",
    "        font = ImageFont.load_default()\n",
    "        text_position = (top_left[0], top_left[1] - 10)  # Place text above the rectangle\n",
    "        draw.text(text_position, qr_data, fill=\"green\", font=font)\n",
    "        \n",
    "\n",
    "    # Show the image with the QR code and bounding box\n",
    "    pillow_image.show()\n",
    "\n",
    "# Specify the path to your image file\n",
    "image_path = \"output.png\"\n",
    "pillow_image = Image.open(image_path)\n",
    "\n",
    "# Scan QR codes from the image file\n",
    "scan_qrcode_from_image_path(pillow_image)\n"
   ]
  }
 ],
 "metadata": {
  "kernelspec": {
   "display_name": "venv",
   "language": "python",
   "name": "python3"
  },
  "language_info": {
   "codemirror_mode": {
    "name": "ipython",
    "version": 3
   },
   "file_extension": ".py",
   "mimetype": "text/x-python",
   "name": "python",
   "nbconvert_exporter": "python",
   "pygments_lexer": "ipython3",
   "version": "3.10.1"
  }
 },
 "nbformat": 4,
 "nbformat_minor": 2
}
